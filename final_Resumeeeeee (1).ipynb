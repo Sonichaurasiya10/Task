{
  "nbformat": 4,
  "nbformat_minor": 0,
  "metadata": {
    "colab": {
      "provenance": []
    },
    "kernelspec": {
      "name": "python3",
      "display_name": "Python 3"
    },
    "language_info": {
      "name": "python"
    }
  },
  "cells": [
    {
      "cell_type": "code",
      "execution_count": null,
      "metadata": {
        "colab": {
          "base_uri": "https://localhost:8080/"
        },
        "id": "cQCJEf_-thMh",
        "outputId": "21a756c8-7eff-42db-8ce2-421cc960cd39"
      },
      "outputs": [
        {
          "output_type": "stream",
          "name": "stdout",
          "text": [
            "Collecting PyPDF2\n",
            "  Downloading pypdf2-3.0.1-py3-none-any.whl (232 kB)\n",
            "\u001b[2K     \u001b[90m━━━━━━━━━━━━━━━━━━━━━━━━━━━━━━━━━━━━━━━━\u001b[0m \u001b[32m232.6/232.6 kB\u001b[0m \u001b[31m2.0 MB/s\u001b[0m eta \u001b[36m0:00:00\u001b[0m\n",
            "\u001b[?25hInstalling collected packages: PyPDF2\n",
            "Successfully installed PyPDF2-3.0.1\n"
          ]
        }
      ],
      "source": [
        "pip install PyPDF2"
      ]
    },
    {
      "cell_type": "code",
      "source": [
        "import PyPDF2\n",
        "\n",
        "def extract_text_from_pdf(pdf_path):\n",
        "    text = \"\"\n",
        "    with open(pdf_path, \"rb\") as file:\n",
        "        pdf_reader = PyPDF2.PdfReader(file)\n",
        "        num_pages = len(pdf_reader.pages)\n",
        "\n",
        "        for page_num in range(num_pages):\n",
        "            page = pdf_reader.pages[page_num]\n",
        "            text += page.extract_text()\n",
        "\n",
        "    return text\n",
        "\n",
        "\n",
        "pdf_path = '/content/SONI_RESUME.pdf'\n",
        "extracted_text = extract_text_from_pdf(pdf_path)\n",
        "\n",
        "print(extracted_text)\n"
      ],
      "metadata": {
        "colab": {
          "base_uri": "https://localhost:8080/"
        },
        "id": "svR6YM5zuzy0",
        "outputId": "bee0f31f-3f5c-4360-c640-8e031d0a1072"
      },
      "execution_count": null,
      "outputs": [
        {
          "output_type": "stream",
          "name": "stdout",
          "text": [
            "SONI CHAURASIYA \n",
            "Front End Developer / Software Engineer \n",
            "I want to work with company where I get opportunity to learn and explore new skill \n",
            "sonichaurasiya763@gmail.com \n",
            "9921928521 \n",
            "Virar, Mumbai, India \n",
            "linkedin.com/in/soni-chaurasiya-030353216 \n",
            "EDUCATION \n",
            "Master's Degree \n",
            "Thakur College of Commerce and Science \n",
            "06/2022 - Present\n",
            ", \n",
            " \n",
            "Kandivali, Mumbai_CGPA-7.92 \n",
            "MSc Information\n",
            "Technology \n",
            "Bachelor of Information & Technology \n",
            "Shree L.R Tiwari Degree College of Arts,\n",
            "Commerce Science (University of Mumbai) \n",
            "06/2019 - 04/2021\n",
            ", \n",
            " \n",
            "Mira Bhayandar_CGPA-8.79 \n",
            "BSc Information\n",
            "Technology \n",
            "HSC \n",
            "Viva college of Arts, Commerce Science \n",
            "06/2017 - 04/2019\n",
            ", \n",
            " \n",
            "Virar, Mumbai_Percentage-51% \n",
            "Science \n",
            "PROJECTS \n",
            "Resume Builder \n",
            "Project \n",
            "Hand Sign Recognition \n",
            "Project \n",
            "Tic Tac Toe \n",
            "Project \n",
            "Currently I'm writing a research paper on \n",
            "\"Tuberculosis detection using Ai\" \n",
            "Project - Present \n",
            "SKILLS \n",
            "Python \n",
            "HTML/CSS \n",
            "VOLUNTEERING \n",
            "NSS Member \n",
            "CERTIFICATES \n",
            "Python and Artiﬁcial  Intelligence Bootcamp from\n",
            "Devtown (7 Days Bootcamp)\n",
            " (07/2023 - 07/2023)\n",
            " \n",
            "HTML /CSS / JAVASCRIPT from Devtown (7 Days\n",
            "Bootcamp)\n",
            " (08/2923 - 08/2023)\n",
            " \n",
            "LANGUAGES \n",
            "English \n",
            "Full Professional Proﬁciency \n",
            "Hindi \n",
            "Full Professional Proﬁciency \n",
            "Marathi \n",
            "Full Professional Proﬁciency \n",
            "INTERESTS \n",
            "Problem Solving \n",
            "Helping \n",
            "Courses \n",
            "Courses \n",
            "Courses \n"
          ]
        }
      ]
    },
    {
      "cell_type": "code",
      "source": [
        "from sklearn.feature_extraction.text import TfidfVectorizer\n",
        "from sklearn.metrics.pairwise import euclidean_distances\n",
        "\n",
        "def extract_text_from_pdf(pdf_path):\n",
        "    text = \"\"\n",
        "    with open(pdf_path, \"rb\") as file:\n",
        "        pdf_reader = PyPDF2.PdfReader(file)\n",
        "        num_pages = len(pdf_reader.pages)\n",
        "\n",
        "        for page_num in range(num_pages):\n",
        "            page = pdf_reader.pages[page_num]\n",
        "            text += page.extract_text()\n",
        "\n",
        "    return text\n",
        "\n",
        "def calculate_score_with_euclidean(job_description, resume):\n",
        "\n",
        "    all_text = [job_description, resume]\n",
        "\n",
        "\n",
        "    vectorizer = TfidfVectorizer(stop_words='english')\n",
        "\n",
        "\n",
        "    tfidf_matrix = vectorizer.fit_transform(all_text)\n",
        "\n",
        "    job_tfidf = tfidf_matrix[0].toarray()\n",
        "    resume_tfidf = tfidf_matrix[1].toarray()\n",
        "\n",
        "\n",
        "    distance = euclidean_distances(job_tfidf, resume_tfidf)[0][0]\n",
        "\n",
        "\n",
        "    similarity_score = 1 / (1 + distance)\n",
        "\n",
        "    return similarity_score * 100\n",
        "\n",
        "pdf_path = '/content/SONI_RESUME.pdf'\n",
        "resume_text = extract_text_from_pdf(pdf_path)\n",
        "\n",
        "# Example job description\n",
        "job_description = \"\"\"\n",
        "We are looking for a candidate with the following qualifications:\n",
        "- Strong programming skills in Python and Java\n",
        "- Experience with machine learning and data analysis\n",
        "- Excellent communication skills\n",
        "\"\"\"\n",
        "\n",
        "score = calculate_score_with_euclidean(job_description, resume_text)\n",
        "print(f\"Score: {score:.2f}%\")\n"
      ],
      "metadata": {
        "colab": {
          "base_uri": "https://localhost:8080/"
        },
        "id": "5-pJH0wruXap",
        "outputId": "a2f7b4f4-5119-46eb-a0aa-58bad165c477"
      },
      "execution_count": null,
      "outputs": [
        {
          "output_type": "stream",
          "name": "stdout",
          "text": [
            "Score: 41.80%\n"
          ]
        }
      ]
    },
    {
      "cell_type": "code",
      "source": [
        "import PyPDF2\n",
        "import re\n",
        "\n",
        "def extract_text_from_pdf(pdf_path):\n",
        "    text = \"\"\n",
        "    with open(pdf_path, \"rb\") as file:\n",
        "        pdf_reader = PyPDF2.PdfReader(file)\n",
        "        num_pages = len(pdf_reader.pages)\n",
        "\n",
        "        for page_num in range(num_pages):\n",
        "            page = pdf_reader.pages[page_num]\n",
        "            text += page.extract_text()\n",
        "\n",
        "    return text\n",
        "\n",
        "def extract_skills_from_pdf(pdf_path):\n",
        "\n",
        "    resume_text = extract_text_from_pdf(pdf_path)\n",
        "\n",
        "    skill_pattern = re.compile(r'\\b(?:python|java|c\\+\\+|machine learning|data analysis|web development)\\b', flags=re.IGNORECASE)\n",
        "\n",
        "    skills = skill_pattern.findall(resume_text)\n",
        "\n",
        "    return list(set(skills))\n",
        "\n",
        "# Example usage:\n",
        "pdf_path = '/content/SONI_RESUME.pdf'\n",
        "skills = extract_skills_from_pdf(pdf_path)\n",
        "\n",
        "print(f\"Skills extracted from the PDF resume: {', '.join(skills)}\")\n"
      ],
      "metadata": {
        "colab": {
          "base_uri": "https://localhost:8080/"
        },
        "id": "-bAo-9R7wb8W",
        "outputId": "c933ec0e-5610-4da4-c603-f84799360019"
      },
      "execution_count": null,
      "outputs": [
        {
          "output_type": "stream",
          "name": "stdout",
          "text": [
            "Skills extracted from the PDF resume: Python\n"
          ]
        }
      ]
    }
  ]
}